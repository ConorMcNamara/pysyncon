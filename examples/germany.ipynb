{
 "cells": [
  {
   "cell_type": "code",
   "execution_count": 1,
   "metadata": {},
   "outputs": [],
   "source": [
    "import pandas as pd\n",
    "from pyaugsynth import dataprep, synth"
   ]
  },
  {
   "cell_type": "code",
   "execution_count": 2,
   "metadata": {},
   "outputs": [],
   "source": [
    "df = pd.read_csv('germany.csv')\n",
    "\n",
    "X0, X1, Z0, Z1 = dataprep(\n",
    "    foo=df,\n",
    "    predictors=('gdp', 'trade', 'infrate'),\n",
    "    predictors_op='mean',\n",
    "    time_predictors_prior=range(1971, 1981),\n",
    "    special_predictors=(\n",
    "        ('industry', range(1971, 1981) ,'mean'),\n",
    "        ('schooling', [1970, 1975], 'mean'),\n",
    "        ('invest70', [1980], 'mean')\n",
    "    ),\n",
    "    dependent = 'gdp',\n",
    "    unit_variable = 'country',\n",
    "    time_variable = 'year',\n",
    "    treatment_identifier = 'West Germany',\n",
    "    controls_identifier = ('USA', 'UK','Austria', 'Belgium', 'Denmark', 'France',\n",
    "        'Italy', 'Netherlands', 'Norway', 'Switzerland', 'Japan',\n",
    "        'Greece', 'Portugal', 'Spain', 'Australia', 'New Zealand'),\n",
    "    time_optimize_ssr = range(1981, 1991),\n",
    "    time_plot = range(1960, 2004)\n",
    ")\n",
    "\n",
    "_, _, V_train, _ = synth(X0, X1, Z0, Z1)"
   ]
  },
  {
   "cell_type": "code",
   "execution_count": 4,
   "metadata": {},
   "outputs": [],
   "source": [
    "X0, X1, Z0, Z1 = dataprep(\n",
    "    foo=df,\n",
    "    predictors=('gdp', 'trade', 'infrate'),\n",
    "    predictors_op='mean',\n",
    "    time_predictors_prior=range(1981, 1991),\n",
    "    special_predictors=(\n",
    "        ('industry', range(1981, 1991) ,'mean'),\n",
    "        ('schooling', [1980, 1985], 'mean'),\n",
    "        ('invest80', [1980], 'mean')\n",
    "    ),\n",
    "    dependent='gdp',\n",
    "    unit_variable='country',\n",
    "    time_variable='year',\n",
    "    treatment_identifier='West Germany',\n",
    "    controls_identifier=('USA', 'UK','Austria', 'Belgium', 'Denmark', 'France',\n",
    "        'Italy', 'Netherlands', 'Norway', 'Switzerland', 'Japan',\n",
    "        'Greece', 'Portugal', 'Spain', 'Australia', 'New Zealand'),\n",
    "    time_optimize_ssr = range(1960, 1990),\n",
    "    time_plot = range(1960, 2004)\n",
    ")\n",
    "\n",
    "W, _, _, _ = synth(X0, X1, Z0, Z1, custom_V=V_train)"
   ]
  },
  {
   "cell_type": "code",
   "execution_count": 6,
   "metadata": {},
   "outputs": [
    {
     "name": "stdout",
     "output_type": "stream",
     "text": [
      "USA 0.216\n",
      "UK 0.0\n",
      "Austria 0.415\n",
      "Belgium 0.0\n",
      "Denmark 0.0\n",
      "France 0.0\n",
      "Italy 0.0\n",
      "Netherlands 0.098\n",
      "Norway 0.0\n",
      "Switzerland 0.108\n",
      "Japan 0.162\n",
      "Greece 0.0\n",
      "Portugal 0.0\n",
      "Spain 0.0\n",
      "Australia 0.0\n",
      "New Zealand 0.0\n"
     ]
    }
   ],
   "source": [
    "for r, w in zip(X0.columns, W):\n",
    "    print(r, round(w, 3))"
   ]
  }
 ],
 "metadata": {
  "kernelspec": {
   "display_name": ".venv",
   "language": "python",
   "name": "python3"
  },
  "language_info": {
   "codemirror_mode": {
    "name": "ipython",
    "version": 3
   },
   "file_extension": ".py",
   "mimetype": "text/x-python",
   "name": "python",
   "nbconvert_exporter": "python",
   "pygments_lexer": "ipython3",
   "version": "3.10.4 (tags/v3.10.4:9d38120, Mar 23 2022, 23:13:41) [MSC v.1929 64 bit (AMD64)]"
  },
  "orig_nbformat": 4,
  "vscode": {
   "interpreter": {
    "hash": "85fb410522c03ef7cbf0685320ab75bd674f15a44c6c241babeccb635dd70649"
   }
  }
 },
 "nbformat": 4,
 "nbformat_minor": 2
}
