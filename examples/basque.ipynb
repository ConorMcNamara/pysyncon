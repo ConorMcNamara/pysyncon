{
 "cells": [
  {
   "cell_type": "code",
   "execution_count": null,
   "metadata": {},
   "outputs": [],
   "source": [
    "import pandas as pd\n",
    "from pyaugsynth import dataprep, synth"
   ]
  },
  {
   "cell_type": "code",
   "execution_count": 2,
   "metadata": {},
   "outputs": [],
   "source": [
    "df = pd.read_csv('basque.csv')\n",
    "\n",
    "X0, X1, Z0, Z1 = dataprep(\n",
    "    foo=df,\n",
    "    predictors=('school.illit', 'school.prim', 'school.med',\n",
    "        'school.high', 'school.post.high', 'invest'),\n",
    "    predictors_op='mean',\n",
    "    time_predictors_prior=range(1964, 1970),\n",
    "    special_predictors=(\n",
    "        ('gdpcap', range(1960, 1970) ,'mean'),\n",
    "        ('sec.agriculture', range(1961, 1970, 2), 'mean'),\n",
    "        ('sec.energy', range(1961, 1970, 2), 'mean'),\n",
    "        ('sec.industry', range(1961, 1970, 2), 'mean'),\n",
    "        ('sec.construction', range(1961, 1970, 2), 'mean'),\n",
    "        ('sec.services.venta', range(1961, 1970, 2), 'mean'),\n",
    "        ('sec.services.nonventa', range(1961, 1970, 2), 'mean'),\n",
    "        ('popdens', [1969], 'mean')\n",
    "    ),\n",
    "    dependent = 'gdpcap',\n",
    "    unit_variable = 'regionname',\n",
    "    time_variable = 'year',\n",
    "    treatment_identifier = 'Basque Country (Pais Vasco)',\n",
    "    controls_identifier = ('Spain (Espana)', 'Andalucia', 'Aragon',\n",
    "        'Principado De Asturias', 'Baleares (Islas)', 'Canarias',                   \n",
    "        'Cantabria', 'Castilla Y Leon', 'Castilla-La Mancha',\n",
    "        'Cataluna', 'Comunidad Valenciana', 'Extremadura',\n",
    "        'Galicia', 'Madrid (Comunidad De)', 'Murcia (Region de)',\n",
    "        'Navarra (Comunidad Foral De)', 'Rioja (La)'),\n",
    "    time_optimize_ssr = range(1960, 1970),\n",
    "    time_plot = range(1955, 1998)\n",
    ")\n",
    "\n",
    "W, _, _, _ = synth(X0, X1, Z0, Z1)"
   ]
  },
  {
   "cell_type": "code",
   "execution_count": 3,
   "metadata": {},
   "outputs": [
    {
     "name": "stdout",
     "output_type": "stream",
     "text": [
      "Spain (Espana) 0.0\n",
      "Andalucia 0.0\n",
      "Aragon 0.0\n",
      "Principado De Asturias 0.0\n",
      "Baleares (Islas) 0.0\n",
      "Canarias 0.0\n",
      "Cantabria 0.0\n",
      "Castilla Y Leon 0.0\n",
      "Castilla-La Mancha 0.0\n",
      "Cataluna 0.851\n",
      "Comunidad Valenciana 0.0\n",
      "Extremadura 0.0\n",
      "Galicia 0.0\n",
      "Madrid (Comunidad De) 0.149\n",
      "Murcia (Region de) 0.0\n",
      "Navarra (Comunidad Foral De) 0.0\n",
      "Rioja (La) 0.0\n"
     ]
    }
   ],
   "source": [
    "for r, w in zip(X0.columns, W):\n",
    "    print(r, round(w, 3))"
   ]
  }
 ],
 "metadata": {
  "kernelspec": {
   "display_name": "Python 3.10.4 ('.venv': venv)",
   "language": "python",
   "name": "python3"
  },
  "language_info": {
   "codemirror_mode": {
    "name": "ipython",
    "version": 3
   },
   "file_extension": ".py",
   "mimetype": "text/x-python",
   "name": "python",
   "nbconvert_exporter": "python",
   "pygments_lexer": "ipython3",
   "version": "3.10.4"
  },
  "orig_nbformat": 4,
  "vscode": {
   "interpreter": {
    "hash": "85fb410522c03ef7cbf0685320ab75bd674f15a44c6c241babeccb635dd70649"
   }
  }
 },
 "nbformat": 4,
 "nbformat_minor": 2
}
