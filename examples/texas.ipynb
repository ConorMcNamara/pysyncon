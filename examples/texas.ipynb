{
 "cells": [
  {
   "cell_type": "code",
   "execution_count": 1,
   "metadata": {},
   "outputs": [],
   "source": [
    "import pandas as pd\n",
    "from pyaugsynth import dataprep, synth"
   ]
  },
  {
   "cell_type": "code",
   "execution_count": 2,
   "metadata": {},
   "outputs": [],
   "source": [
    "df = pd.read_csv('./data/texas.csv')\n",
    "\n",
    "X0, X1, Z0, Z1 = dataprep(\n",
    "    foo=df,\n",
    "    predictors=('bmprison', 'income', 'ur', 'poverty'),\n",
    "    predictors_op='mean',\n",
    "    time_predictors_prior=range(1985, 2001),\n",
    "    special_predictors=(\n",
    "        ('bmprison', [1988] ,'mean'),\n",
    "        ('bmprison', [1990], 'mean'),\n",
    "        ('bmprison', [1991], 'mean'),\n",
    "        ('bmprison', [1992], 'mean'),\n",
    "        ('alcohol', [1990], 'mean'),\n",
    "        ('aidscapita', [1990], 'mean'),\n",
    "        ('aidscapita', [1991], 'mean'),\n",
    "        ('black', [1990], 'mean'),\n",
    "        ('black', [1991], 'mean'),\n",
    "        ('black', [1992], 'mean'),\n",
    "        ('perc1519', [1990], 'mean')\n",
    "    ),\n",
    "    dependent='bmprison',\n",
    "    unit_variable='state',\n",
    "    time_variable='year',\n",
    "    treatment_identifier='Texas',\n",
    "    controls_identifier=('Alabama', 'Alaska', 'Arizona', 'Arkansas',\n",
    "        'California', 'Colorado', 'Connecticut', 'Delaware',\n",
    "        'District of Columbia', 'Florida', 'Georgia', 'Hawaii',\n",
    "        'Idaho', 'Illinois', 'Indiana', 'Iowa', 'Kansas', 'Kentucky',\n",
    "        'Louisiana', 'Maine', 'Maryland', 'Massachusetts', 'Michigan',\n",
    "        'Minnesota', 'Mississippi', 'Missouri', 'Montana', 'Nebraska',\n",
    "        'Nevada', 'New Hampshire', 'New Jersey', 'New Mexico',\n",
    "        'New York', 'North Carolina', 'North Dakota', 'Ohio',\n",
    "        'Oklahoma', 'Oregon', 'Pennsylvania', 'Rhode Island',\n",
    "        'South Carolina', 'South Dakota', 'Tennessee', 'Utah',\n",
    "        'Vermont', 'Virginia', 'Washington', 'West Virginia',\n",
    "        'Wisconsin', 'Wyoming'),\n",
    "    time_optimize_ssr=range(1985, 1994),\n",
    "    time_plot=range(1955, 1998)\n",
    ")\n",
    "\n",
    "W, _, _, _ = synth(X0, X1, Z0, Z1, optim_method='BFGS')"
   ]
  },
  {
   "cell_type": "code",
   "execution_count": 3,
   "metadata": {},
   "outputs": [
    {
     "name": "stdout",
     "output_type": "stream",
     "text": [
      "California 0.394\n",
      "Florida 0.095\n",
      "Illinois 0.394\n",
      "Louisiana 0.117\n"
     ]
    }
   ],
   "source": [
    "for state, weight in zip(X0.columns, W):\n",
    "    if weight > 1e-5:\n",
    "        print(state, round(weight, 3))"
   ]
  }
 ],
 "metadata": {
  "kernelspec": {
   "display_name": ".venv",
   "language": "python",
   "name": "python3"
  },
  "language_info": {
   "codemirror_mode": {
    "name": "ipython",
    "version": 3
   },
   "file_extension": ".py",
   "mimetype": "text/x-python",
   "name": "python",
   "nbconvert_exporter": "python",
   "pygments_lexer": "ipython3",
   "version": "3.10.4 (tags/v3.10.4:9d38120, Mar 23 2022, 23:13:41) [MSC v.1929 64 bit (AMD64)]"
  },
  "orig_nbformat": 4,
  "vscode": {
   "interpreter": {
    "hash": "85fb410522c03ef7cbf0685320ab75bd674f15a44c6c241babeccb635dd70649"
   }
  }
 },
 "nbformat": 4,
 "nbformat_minor": 2
}
